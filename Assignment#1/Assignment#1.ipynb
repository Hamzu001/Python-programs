{
 "cells": [
  {
   "cell_type": "code",
   "execution_count": 1,
   "id": "9b1a5850",
   "metadata": {},
   "outputs": [
    {
     "name": "stdout",
     "output_type": "stream",
     "text": [
      "Twinkle,twinkle,little star,\n",
      "        How I wonder what you are!\n",
      "                Up above the world so high,\n",
      "                Like a diamond in the sky.\n",
      "Twinkle,twinkle,little star,\n",
      "        How I wonder what you are!\n"
     ]
    }
   ],
   "source": [
    "print(\"Twinkle,twinkle,little star,\");\n",
    "print(\"        How I wonder what you are!\");\n",
    "print(\"                Up above the world so high,\");\n",
    "print(\"                Like a diamond in the sky.\");\n",
    "print(\"Twinkle,twinkle,little star,\");\n",
    "print(\"        How I wonder what you are!\");"
   ]
  },
  {
   "cell_type": "code",
   "execution_count": 10,
   "id": "364f07bb",
   "metadata": {},
   "outputs": [
    {
     "name": "stdout",
     "output_type": "stream",
     "text": [
      "Python 3.9.7\n"
     ]
    }
   ],
   "source": [
    "!python --version"
   ]
  },
  {
   "cell_type": "code",
   "execution_count": 17,
   "id": "2e7381bb",
   "metadata": {},
   "outputs": [
    {
     "name": "stdout",
     "output_type": "stream",
     "text": [
      "Calculate Area of Circle\n",
      "radius of circle enter from the user :  22\n",
      "Area of circle 1519.76\n"
     ]
    }
   ],
   "source": [
    "print(\"Calculate Area of Circle\");\n",
    "r = 22;\n",
    "print(\"radius of circle enter from the user : \",r);\n",
    "a = 3.14 * r * r ;\n",
    "print(\"Area of circle\",a);"
   ]
  },
  {
   "cell_type": "code",
   "execution_count": 23,
   "id": "6ae876ca",
   "metadata": {},
   "outputs": [
    {
     "name": "stdout",
     "output_type": "stream",
     "text": [
      "Current date and time is :  2022-01-02 09:52:04.892288\n"
     ]
    }
   ],
   "source": [
    "import datetime\n",
    "current_dt=datetime.datetime.now();\n",
    "print(\"Current date and time is : \",current_dt);\n"
   ]
  },
  {
   "cell_type": "code",
   "execution_count": 31,
   "id": "04f03504",
   "metadata": {},
   "outputs": [
    {
     "name": "stdout",
     "output_type": "stream",
     "text": [
      "HamzaZahid\n"
     ]
    }
   ],
   "source": [
    "f_name=\"Hamza\";\n",
    "l_name=\"Zahid\";\n",
    "print(f_name + l_name);"
   ]
  },
  {
   "cell_type": "code",
   "execution_count": 40,
   "id": "49a11391",
   "metadata": {},
   "outputs": [
    {
     "name": "stdout",
     "output_type": "stream",
     "text": [
      "HamzaZahid\n",
      "dihaZ azmaH\n"
     ]
    }
   ],
   "source": [
    "f_name=\"Hamza\";\n",
    "l_name=\"Zahid\";\n",
    "print(f_name + l_name);\n",
    "b=\"Hamza Zahid\"[::-1];\n",
    "print(b);"
   ]
  },
  {
   "cell_type": "code",
   "execution_count": 41,
   "id": "0511a433",
   "metadata": {},
   "outputs": [
    {
     "name": "stdout",
     "output_type": "stream",
     "text": [
      "sum of two numers is :  30\n"
     ]
    }
   ],
   "source": [
    "a = 10;\n",
    "b = 20;\n",
    "c = a+b;\n",
    "print(\"sum of two numers is : \",c);"
   ]
  }
 ],
 "metadata": {
  "kernelspec": {
   "display_name": "Python 3 (ipykernel)",
   "language": "python",
   "name": "python3"
  },
  "language_info": {
   "codemirror_mode": {
    "name": "ipython",
    "version": 3
   },
   "file_extension": ".py",
   "mimetype": "text/x-python",
   "name": "python",
   "nbconvert_exporter": "python",
   "pygments_lexer": "ipython3",
   "version": "3.9.7"
  }
 },
 "nbformat": 4,
 "nbformat_minor": 5
}
